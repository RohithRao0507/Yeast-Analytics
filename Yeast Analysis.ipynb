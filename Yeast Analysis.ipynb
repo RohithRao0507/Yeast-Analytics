{
  "metadata": {
    "kernelspec": {
      "language": "python",
      "display_name": "Python 3",
      "name": "python3"
    },
    "language_info": {
      "name": "python",
      "version": "3.7.12",
      "mimetype": "text/x-python",
      "codemirror_mode": {
        "name": "ipython",
        "version": 3
      },
      "pygments_lexer": "ipython3",
      "nbconvert_exporter": "python",
      "file_extension": ".py"
    },
    "colab": {
      "provenance": []
    }
  },
  "nbformat_minor": 0,
  "nbformat": 4,
  "cells": [
    {
      "cell_type": "markdown",
      "source": [
        "### Importing Libraries:"
      ],
      "metadata": {
        "_uuid": "8f2839f25d086af736a60e9eeb907d3b93b6e0e5",
        "_cell_guid": "b1076dfc-b9ad-4769-8c92-a6c4dae69d19",
        "execution": {
          "iopub.status.busy": "2022-10-02T22:28:22.249749Z",
          "iopub.execute_input": "2022-10-02T22:28:22.250421Z",
          "iopub.status.idle": "2022-10-02T22:28:22.283615Z",
          "shell.execute_reply.started": "2022-10-02T22:28:22.250319Z",
          "shell.execute_reply": "2022-10-02T22:28:22.282655Z"
        },
        "id": "bkDKDlkeEoHT"
      }
    },
    {
      "cell_type": "code",
      "source": [
        "import numpy as np\n",
        "import pandas as pd\n",
        "\n",
        "import matplotlib.pyplot as plt\n",
        "import seaborn as sns\n",
        "import squarify\n",
        "\n",
        "from scipy import stats\n",
        "import math\n",
        "\n",
        "from plotly.subplots import make_subplots\n",
        "import plotly.express as px\n",
        "import plotly.graph_objects as go\n",
        "\n",
        "from sklearn.utils import shuffle\n",
        "from sklearn.linear_model import LogisticRegression\n",
        "from sklearn.preprocessing import LabelEncoder, OneHotEncoder\n",
        "from sklearn.ensemble import RandomForestClassifier\n",
        "from sklearn.model_selection import train_test_split, KFold, StratifiedKFold, cross_val_score\n",
        "from sklearn.metrics import confusion_matrix, accuracy_score, roc_auc_score"
      ],
      "metadata": {
        "execution": {
          "iopub.status.busy": "2022-10-03T08:30:30.987669Z",
          "iopub.execute_input": "2022-10-03T08:30:30.988130Z",
          "iopub.status.idle": "2022-10-03T08:30:30.996321Z",
          "shell.execute_reply.started": "2022-10-03T08:30:30.988087Z",
          "shell.execute_reply": "2022-10-03T08:30:30.994859Z"
        },
        "trusted": true,
        "id": "z6yuGDWrEoHV"
      },
      "execution_count": null,
      "outputs": []
    },
    {
      "cell_type": "code",
      "source": [
        "df = pd.read_csv('/content/yeast.csv', index_col=0, header=None, delim_whitespace=True)"
      ],
      "metadata": {
        "execution": {
          "iopub.status.busy": "2022-10-03T08:30:31.005741Z",
          "iopub.execute_input": "2022-10-03T08:30:31.006259Z",
          "iopub.status.idle": "2022-10-03T08:30:31.027855Z",
          "shell.execute_reply.started": "2022-10-03T08:30:31.006212Z",
          "shell.execute_reply": "2022-10-03T08:30:31.026488Z"
        },
        "trusted": true,
        "id": "5JG60usDEoHX"
      },
      "execution_count": null,
      "outputs": []
    },
    {
      "cell_type": "code",
      "source": [
        "df.columns = ['mcg', 'gvh', 'alm', 'mit', 'erl', 'pox', 'vac', 'nuc', 'name']"
      ],
      "metadata": {
        "id": "yoM3EtflPa7l"
      },
      "execution_count": null,
      "outputs": []
    },
    {
      "cell_type": "code",
      "source": [
        "df.head(2)"
      ],
      "metadata": {
        "id": "oXVzyFe2PtFe",
        "colab": {
          "base_uri": "https://localhost:8080/",
          "height": 143
        },
        "outputId": "25945e68-71b8-4e41-9ced-3bfbe2bc19d1"
      },
      "execution_count": null,
      "outputs": [
        {
          "output_type": "execute_result",
          "data": {
            "text/plain": [
              "             mcg   gvh   alm   mit  erl  pox   vac   nuc name\n",
              "0                                                            \n",
              "ADT1_YEAST  0.58  0.61  0.47  0.13  0.5  0.0  0.48  0.22  MIT\n",
              "ADT2_YEAST  0.43  0.67  0.48  0.27  0.5  0.0  0.53  0.22  MIT"
            ],
            "text/html": [
              "\n",
              "  <div id=\"df-1bdaa0f3-4035-4634-9863-af5df1417b38\">\n",
              "    <div class=\"colab-df-container\">\n",
              "      <div>\n",
              "<style scoped>\n",
              "    .dataframe tbody tr th:only-of-type {\n",
              "        vertical-align: middle;\n",
              "    }\n",
              "\n",
              "    .dataframe tbody tr th {\n",
              "        vertical-align: top;\n",
              "    }\n",
              "\n",
              "    .dataframe thead th {\n",
              "        text-align: right;\n",
              "    }\n",
              "</style>\n",
              "<table border=\"1\" class=\"dataframe\">\n",
              "  <thead>\n",
              "    <tr style=\"text-align: right;\">\n",
              "      <th></th>\n",
              "      <th>mcg</th>\n",
              "      <th>gvh</th>\n",
              "      <th>alm</th>\n",
              "      <th>mit</th>\n",
              "      <th>erl</th>\n",
              "      <th>pox</th>\n",
              "      <th>vac</th>\n",
              "      <th>nuc</th>\n",
              "      <th>name</th>\n",
              "    </tr>\n",
              "    <tr>\n",
              "      <th>0</th>\n",
              "      <th></th>\n",
              "      <th></th>\n",
              "      <th></th>\n",
              "      <th></th>\n",
              "      <th></th>\n",
              "      <th></th>\n",
              "      <th></th>\n",
              "      <th></th>\n",
              "      <th></th>\n",
              "    </tr>\n",
              "  </thead>\n",
              "  <tbody>\n",
              "    <tr>\n",
              "      <th>ADT1_YEAST</th>\n",
              "      <td>0.58</td>\n",
              "      <td>0.61</td>\n",
              "      <td>0.47</td>\n",
              "      <td>0.13</td>\n",
              "      <td>0.5</td>\n",
              "      <td>0.0</td>\n",
              "      <td>0.48</td>\n",
              "      <td>0.22</td>\n",
              "      <td>MIT</td>\n",
              "    </tr>\n",
              "    <tr>\n",
              "      <th>ADT2_YEAST</th>\n",
              "      <td>0.43</td>\n",
              "      <td>0.67</td>\n",
              "      <td>0.48</td>\n",
              "      <td>0.27</td>\n",
              "      <td>0.5</td>\n",
              "      <td>0.0</td>\n",
              "      <td>0.53</td>\n",
              "      <td>0.22</td>\n",
              "      <td>MIT</td>\n",
              "    </tr>\n",
              "  </tbody>\n",
              "</table>\n",
              "</div>\n",
              "      <button class=\"colab-df-convert\" onclick=\"convertToInteractive('df-1bdaa0f3-4035-4634-9863-af5df1417b38')\"\n",
              "              title=\"Convert this dataframe to an interactive table.\"\n",
              "              style=\"display:none;\">\n",
              "        \n",
              "  <svg xmlns=\"http://www.w3.org/2000/svg\" height=\"24px\"viewBox=\"0 0 24 24\"\n",
              "       width=\"24px\">\n",
              "    <path d=\"M0 0h24v24H0V0z\" fill=\"none\"/>\n",
              "    <path d=\"M18.56 5.44l.94 2.06.94-2.06 2.06-.94-2.06-.94-.94-2.06-.94 2.06-2.06.94zm-11 1L8.5 8.5l.94-2.06 2.06-.94-2.06-.94L8.5 2.5l-.94 2.06-2.06.94zm10 10l.94 2.06.94-2.06 2.06-.94-2.06-.94-.94-2.06-.94 2.06-2.06.94z\"/><path d=\"M17.41 7.96l-1.37-1.37c-.4-.4-.92-.59-1.43-.59-.52 0-1.04.2-1.43.59L10.3 9.45l-7.72 7.72c-.78.78-.78 2.05 0 2.83L4 21.41c.39.39.9.59 1.41.59.51 0 1.02-.2 1.41-.59l7.78-7.78 2.81-2.81c.8-.78.8-2.07 0-2.86zM5.41 20L4 18.59l7.72-7.72 1.47 1.35L5.41 20z\"/>\n",
              "  </svg>\n",
              "      </button>\n",
              "      \n",
              "  <style>\n",
              "    .colab-df-container {\n",
              "      display:flex;\n",
              "      flex-wrap:wrap;\n",
              "      gap: 12px;\n",
              "    }\n",
              "\n",
              "    .colab-df-convert {\n",
              "      background-color: #E8F0FE;\n",
              "      border: none;\n",
              "      border-radius: 50%;\n",
              "      cursor: pointer;\n",
              "      display: none;\n",
              "      fill: #1967D2;\n",
              "      height: 32px;\n",
              "      padding: 0 0 0 0;\n",
              "      width: 32px;\n",
              "    }\n",
              "\n",
              "    .colab-df-convert:hover {\n",
              "      background-color: #E2EBFA;\n",
              "      box-shadow: 0px 1px 2px rgba(60, 64, 67, 0.3), 0px 1px 3px 1px rgba(60, 64, 67, 0.15);\n",
              "      fill: #174EA6;\n",
              "    }\n",
              "\n",
              "    [theme=dark] .colab-df-convert {\n",
              "      background-color: #3B4455;\n",
              "      fill: #D2E3FC;\n",
              "    }\n",
              "\n",
              "    [theme=dark] .colab-df-convert:hover {\n",
              "      background-color: #434B5C;\n",
              "      box-shadow: 0px 1px 3px 1px rgba(0, 0, 0, 0.15);\n",
              "      filter: drop-shadow(0px 1px 2px rgba(0, 0, 0, 0.3));\n",
              "      fill: #FFFFFF;\n",
              "    }\n",
              "  </style>\n",
              "\n",
              "      <script>\n",
              "        const buttonEl =\n",
              "          document.querySelector('#df-1bdaa0f3-4035-4634-9863-af5df1417b38 button.colab-df-convert');\n",
              "        buttonEl.style.display =\n",
              "          google.colab.kernel.accessAllowed ? 'block' : 'none';\n",
              "\n",
              "        async function convertToInteractive(key) {\n",
              "          const element = document.querySelector('#df-1bdaa0f3-4035-4634-9863-af5df1417b38');\n",
              "          const dataTable =\n",
              "            await google.colab.kernel.invokeFunction('convertToInteractive',\n",
              "                                                     [key], {});\n",
              "          if (!dataTable) return;\n",
              "\n",
              "          const docLinkHtml = 'Like what you see? Visit the ' +\n",
              "            '<a target=\"_blank\" href=https://colab.research.google.com/notebooks/data_table.ipynb>data table notebook</a>'\n",
              "            + ' to learn more about interactive tables.';\n",
              "          element.innerHTML = '';\n",
              "          dataTable['output_type'] = 'display_data';\n",
              "          await google.colab.output.renderOutput(dataTable, element);\n",
              "          const docLink = document.createElement('div');\n",
              "          docLink.innerHTML = docLinkHtml;\n",
              "          element.appendChild(docLink);\n",
              "        }\n",
              "      </script>\n",
              "    </div>\n",
              "  </div>\n",
              "  "
            ]
          },
          "metadata": {},
          "execution_count": 5
        }
      ]
    },
    {
      "cell_type": "code",
      "source": [
        "df.isna().sum().rename('null').to_frame().T"
      ],
      "metadata": {
        "id": "78RohA-pQujO",
        "colab": {
          "base_uri": "https://localhost:8080/",
          "height": 81
        },
        "outputId": "f99cd1dc-07a8-4cde-e86a-a09be7c6e004"
      },
      "execution_count": null,
      "outputs": [
        {
          "output_type": "execute_result",
          "data": {
            "text/plain": [
              "      mcg  gvh  alm  mit  erl  pox  vac  nuc  name\n",
              "null    0    0    0    0    0    0    0    0     0"
            ],
            "text/html": [
              "\n",
              "  <div id=\"df-0405a351-f2e6-46d6-9ddf-4d1659acc9e9\">\n",
              "    <div class=\"colab-df-container\">\n",
              "      <div>\n",
              "<style scoped>\n",
              "    .dataframe tbody tr th:only-of-type {\n",
              "        vertical-align: middle;\n",
              "    }\n",
              "\n",
              "    .dataframe tbody tr th {\n",
              "        vertical-align: top;\n",
              "    }\n",
              "\n",
              "    .dataframe thead th {\n",
              "        text-align: right;\n",
              "    }\n",
              "</style>\n",
              "<table border=\"1\" class=\"dataframe\">\n",
              "  <thead>\n",
              "    <tr style=\"text-align: right;\">\n",
              "      <th></th>\n",
              "      <th>mcg</th>\n",
              "      <th>gvh</th>\n",
              "      <th>alm</th>\n",
              "      <th>mit</th>\n",
              "      <th>erl</th>\n",
              "      <th>pox</th>\n",
              "      <th>vac</th>\n",
              "      <th>nuc</th>\n",
              "      <th>name</th>\n",
              "    </tr>\n",
              "  </thead>\n",
              "  <tbody>\n",
              "    <tr>\n",
              "      <th>null</th>\n",
              "      <td>0</td>\n",
              "      <td>0</td>\n",
              "      <td>0</td>\n",
              "      <td>0</td>\n",
              "      <td>0</td>\n",
              "      <td>0</td>\n",
              "      <td>0</td>\n",
              "      <td>0</td>\n",
              "      <td>0</td>\n",
              "    </tr>\n",
              "  </tbody>\n",
              "</table>\n",
              "</div>\n",
              "      <button class=\"colab-df-convert\" onclick=\"convertToInteractive('df-0405a351-f2e6-46d6-9ddf-4d1659acc9e9')\"\n",
              "              title=\"Convert this dataframe to an interactive table.\"\n",
              "              style=\"display:none;\">\n",
              "        \n",
              "  <svg xmlns=\"http://www.w3.org/2000/svg\" height=\"24px\"viewBox=\"0 0 24 24\"\n",
              "       width=\"24px\">\n",
              "    <path d=\"M0 0h24v24H0V0z\" fill=\"none\"/>\n",
              "    <path d=\"M18.56 5.44l.94 2.06.94-2.06 2.06-.94-2.06-.94-.94-2.06-.94 2.06-2.06.94zm-11 1L8.5 8.5l.94-2.06 2.06-.94-2.06-.94L8.5 2.5l-.94 2.06-2.06.94zm10 10l.94 2.06.94-2.06 2.06-.94-2.06-.94-.94-2.06-.94 2.06-2.06.94z\"/><path d=\"M17.41 7.96l-1.37-1.37c-.4-.4-.92-.59-1.43-.59-.52 0-1.04.2-1.43.59L10.3 9.45l-7.72 7.72c-.78.78-.78 2.05 0 2.83L4 21.41c.39.39.9.59 1.41.59.51 0 1.02-.2 1.41-.59l7.78-7.78 2.81-2.81c.8-.78.8-2.07 0-2.86zM5.41 20L4 18.59l7.72-7.72 1.47 1.35L5.41 20z\"/>\n",
              "  </svg>\n",
              "      </button>\n",
              "      \n",
              "  <style>\n",
              "    .colab-df-container {\n",
              "      display:flex;\n",
              "      flex-wrap:wrap;\n",
              "      gap: 12px;\n",
              "    }\n",
              "\n",
              "    .colab-df-convert {\n",
              "      background-color: #E8F0FE;\n",
              "      border: none;\n",
              "      border-radius: 50%;\n",
              "      cursor: pointer;\n",
              "      display: none;\n",
              "      fill: #1967D2;\n",
              "      height: 32px;\n",
              "      padding: 0 0 0 0;\n",
              "      width: 32px;\n",
              "    }\n",
              "\n",
              "    .colab-df-convert:hover {\n",
              "      background-color: #E2EBFA;\n",
              "      box-shadow: 0px 1px 2px rgba(60, 64, 67, 0.3), 0px 1px 3px 1px rgba(60, 64, 67, 0.15);\n",
              "      fill: #174EA6;\n",
              "    }\n",
              "\n",
              "    [theme=dark] .colab-df-convert {\n",
              "      background-color: #3B4455;\n",
              "      fill: #D2E3FC;\n",
              "    }\n",
              "\n",
              "    [theme=dark] .colab-df-convert:hover {\n",
              "      background-color: #434B5C;\n",
              "      box-shadow: 0px 1px 3px 1px rgba(0, 0, 0, 0.15);\n",
              "      filter: drop-shadow(0px 1px 2px rgba(0, 0, 0, 0.3));\n",
              "      fill: #FFFFFF;\n",
              "    }\n",
              "  </style>\n",
              "\n",
              "      <script>\n",
              "        const buttonEl =\n",
              "          document.querySelector('#df-0405a351-f2e6-46d6-9ddf-4d1659acc9e9 button.colab-df-convert');\n",
              "        buttonEl.style.display =\n",
              "          google.colab.kernel.accessAllowed ? 'block' : 'none';\n",
              "\n",
              "        async function convertToInteractive(key) {\n",
              "          const element = document.querySelector('#df-0405a351-f2e6-46d6-9ddf-4d1659acc9e9');\n",
              "          const dataTable =\n",
              "            await google.colab.kernel.invokeFunction('convertToInteractive',\n",
              "                                                     [key], {});\n",
              "          if (!dataTable) return;\n",
              "\n",
              "          const docLinkHtml = 'Like what you see? Visit the ' +\n",
              "            '<a target=\"_blank\" href=https://colab.research.google.com/notebooks/data_table.ipynb>data table notebook</a>'\n",
              "            + ' to learn more about interactive tables.';\n",
              "          element.innerHTML = '';\n",
              "          dataTable['output_type'] = 'display_data';\n",
              "          await google.colab.output.renderOutput(dataTable, element);\n",
              "          const docLink = document.createElement('div');\n",
              "          docLink.innerHTML = docLinkHtml;\n",
              "          element.appendChild(docLink);\n",
              "        }\n",
              "      </script>\n",
              "    </div>\n",
              "  </div>\n",
              "  "
            ]
          },
          "metadata": {},
          "execution_count": 6
        }
      ]
    },
    {
      "cell_type": "markdown",
      "source": [
        "No Null vallues in any column of data"
      ],
      "metadata": {
        "id": "uibaBkdE_u1w"
      }
    },
    {
      "cell_type": "code",
      "source": [
        "df.describe().T"
      ],
      "metadata": {
        "colab": {
          "base_uri": "https://localhost:8080/",
          "height": 300
        },
        "id": "WzGWXufD8R2o",
        "outputId": "a9530d59-cd8e-4f43-8afc-55cf7c4115c1"
      },
      "execution_count": null,
      "outputs": [
        {
          "output_type": "execute_result",
          "data": {
            "text/plain": [
              "      count      mean       std   min   25%   50%   75%   max\n",
              "mcg  1484.0  0.500121  0.137299  0.11  0.41  0.49  0.58  1.00\n",
              "gvh  1484.0  0.499933  0.123924  0.13  0.42  0.49  0.57  1.00\n",
              "alm  1484.0  0.500034  0.086670  0.21  0.46  0.51  0.55  1.00\n",
              "mit  1484.0  0.261186  0.137098  0.00  0.17  0.22  0.32  1.00\n",
              "erl  1484.0  0.504717  0.048351  0.50  0.50  0.50  0.50  1.00\n",
              "pox  1484.0  0.007500  0.075683  0.00  0.00  0.00  0.00  0.83\n",
              "vac  1484.0  0.499885  0.057797  0.00  0.48  0.51  0.53  0.73\n",
              "nuc  1484.0  0.276199  0.106491  0.00  0.22  0.22  0.30  1.00"
            ],
            "text/html": [
              "\n",
              "  <div id=\"df-31981077-c07b-4a47-aa69-ba3cf19db79f\">\n",
              "    <div class=\"colab-df-container\">\n",
              "      <div>\n",
              "<style scoped>\n",
              "    .dataframe tbody tr th:only-of-type {\n",
              "        vertical-align: middle;\n",
              "    }\n",
              "\n",
              "    .dataframe tbody tr th {\n",
              "        vertical-align: top;\n",
              "    }\n",
              "\n",
              "    .dataframe thead th {\n",
              "        text-align: right;\n",
              "    }\n",
              "</style>\n",
              "<table border=\"1\" class=\"dataframe\">\n",
              "  <thead>\n",
              "    <tr style=\"text-align: right;\">\n",
              "      <th></th>\n",
              "      <th>count</th>\n",
              "      <th>mean</th>\n",
              "      <th>std</th>\n",
              "      <th>min</th>\n",
              "      <th>25%</th>\n",
              "      <th>50%</th>\n",
              "      <th>75%</th>\n",
              "      <th>max</th>\n",
              "    </tr>\n",
              "  </thead>\n",
              "  <tbody>\n",
              "    <tr>\n",
              "      <th>mcg</th>\n",
              "      <td>1484.0</td>\n",
              "      <td>0.500121</td>\n",
              "      <td>0.137299</td>\n",
              "      <td>0.11</td>\n",
              "      <td>0.41</td>\n",
              "      <td>0.49</td>\n",
              "      <td>0.58</td>\n",
              "      <td>1.00</td>\n",
              "    </tr>\n",
              "    <tr>\n",
              "      <th>gvh</th>\n",
              "      <td>1484.0</td>\n",
              "      <td>0.499933</td>\n",
              "      <td>0.123924</td>\n",
              "      <td>0.13</td>\n",
              "      <td>0.42</td>\n",
              "      <td>0.49</td>\n",
              "      <td>0.57</td>\n",
              "      <td>1.00</td>\n",
              "    </tr>\n",
              "    <tr>\n",
              "      <th>alm</th>\n",
              "      <td>1484.0</td>\n",
              "      <td>0.500034</td>\n",
              "      <td>0.086670</td>\n",
              "      <td>0.21</td>\n",
              "      <td>0.46</td>\n",
              "      <td>0.51</td>\n",
              "      <td>0.55</td>\n",
              "      <td>1.00</td>\n",
              "    </tr>\n",
              "    <tr>\n",
              "      <th>mit</th>\n",
              "      <td>1484.0</td>\n",
              "      <td>0.261186</td>\n",
              "      <td>0.137098</td>\n",
              "      <td>0.00</td>\n",
              "      <td>0.17</td>\n",
              "      <td>0.22</td>\n",
              "      <td>0.32</td>\n",
              "      <td>1.00</td>\n",
              "    </tr>\n",
              "    <tr>\n",
              "      <th>erl</th>\n",
              "      <td>1484.0</td>\n",
              "      <td>0.504717</td>\n",
              "      <td>0.048351</td>\n",
              "      <td>0.50</td>\n",
              "      <td>0.50</td>\n",
              "      <td>0.50</td>\n",
              "      <td>0.50</td>\n",
              "      <td>1.00</td>\n",
              "    </tr>\n",
              "    <tr>\n",
              "      <th>pox</th>\n",
              "      <td>1484.0</td>\n",
              "      <td>0.007500</td>\n",
              "      <td>0.075683</td>\n",
              "      <td>0.00</td>\n",
              "      <td>0.00</td>\n",
              "      <td>0.00</td>\n",
              "      <td>0.00</td>\n",
              "      <td>0.83</td>\n",
              "    </tr>\n",
              "    <tr>\n",
              "      <th>vac</th>\n",
              "      <td>1484.0</td>\n",
              "      <td>0.499885</td>\n",
              "      <td>0.057797</td>\n",
              "      <td>0.00</td>\n",
              "      <td>0.48</td>\n",
              "      <td>0.51</td>\n",
              "      <td>0.53</td>\n",
              "      <td>0.73</td>\n",
              "    </tr>\n",
              "    <tr>\n",
              "      <th>nuc</th>\n",
              "      <td>1484.0</td>\n",
              "      <td>0.276199</td>\n",
              "      <td>0.106491</td>\n",
              "      <td>0.00</td>\n",
              "      <td>0.22</td>\n",
              "      <td>0.22</td>\n",
              "      <td>0.30</td>\n",
              "      <td>1.00</td>\n",
              "    </tr>\n",
              "  </tbody>\n",
              "</table>\n",
              "</div>\n",
              "      <button class=\"colab-df-convert\" onclick=\"convertToInteractive('df-31981077-c07b-4a47-aa69-ba3cf19db79f')\"\n",
              "              title=\"Convert this dataframe to an interactive table.\"\n",
              "              style=\"display:none;\">\n",
              "        \n",
              "  <svg xmlns=\"http://www.w3.org/2000/svg\" height=\"24px\"viewBox=\"0 0 24 24\"\n",
              "       width=\"24px\">\n",
              "    <path d=\"M0 0h24v24H0V0z\" fill=\"none\"/>\n",
              "    <path d=\"M18.56 5.44l.94 2.06.94-2.06 2.06-.94-2.06-.94-.94-2.06-.94 2.06-2.06.94zm-11 1L8.5 8.5l.94-2.06 2.06-.94-2.06-.94L8.5 2.5l-.94 2.06-2.06.94zm10 10l.94 2.06.94-2.06 2.06-.94-2.06-.94-.94-2.06-.94 2.06-2.06.94z\"/><path d=\"M17.41 7.96l-1.37-1.37c-.4-.4-.92-.59-1.43-.59-.52 0-1.04.2-1.43.59L10.3 9.45l-7.72 7.72c-.78.78-.78 2.05 0 2.83L4 21.41c.39.39.9.59 1.41.59.51 0 1.02-.2 1.41-.59l7.78-7.78 2.81-2.81c.8-.78.8-2.07 0-2.86zM5.41 20L4 18.59l7.72-7.72 1.47 1.35L5.41 20z\"/>\n",
              "  </svg>\n",
              "      </button>\n",
              "      \n",
              "  <style>\n",
              "    .colab-df-container {\n",
              "      display:flex;\n",
              "      flex-wrap:wrap;\n",
              "      gap: 12px;\n",
              "    }\n",
              "\n",
              "    .colab-df-convert {\n",
              "      background-color: #E8F0FE;\n",
              "      border: none;\n",
              "      border-radius: 50%;\n",
              "      cursor: pointer;\n",
              "      display: none;\n",
              "      fill: #1967D2;\n",
              "      height: 32px;\n",
              "      padding: 0 0 0 0;\n",
              "      width: 32px;\n",
              "    }\n",
              "\n",
              "    .colab-df-convert:hover {\n",
              "      background-color: #E2EBFA;\n",
              "      box-shadow: 0px 1px 2px rgba(60, 64, 67, 0.3), 0px 1px 3px 1px rgba(60, 64, 67, 0.15);\n",
              "      fill: #174EA6;\n",
              "    }\n",
              "\n",
              "    [theme=dark] .colab-df-convert {\n",
              "      background-color: #3B4455;\n",
              "      fill: #D2E3FC;\n",
              "    }\n",
              "\n",
              "    [theme=dark] .colab-df-convert:hover {\n",
              "      background-color: #434B5C;\n",
              "      box-shadow: 0px 1px 3px 1px rgba(0, 0, 0, 0.15);\n",
              "      filter: drop-shadow(0px 1px 2px rgba(0, 0, 0, 0.3));\n",
              "      fill: #FFFFFF;\n",
              "    }\n",
              "  </style>\n",
              "\n",
              "      <script>\n",
              "        const buttonEl =\n",
              "          document.querySelector('#df-31981077-c07b-4a47-aa69-ba3cf19db79f button.colab-df-convert');\n",
              "        buttonEl.style.display =\n",
              "          google.colab.kernel.accessAllowed ? 'block' : 'none';\n",
              "\n",
              "        async function convertToInteractive(key) {\n",
              "          const element = document.querySelector('#df-31981077-c07b-4a47-aa69-ba3cf19db79f');\n",
              "          const dataTable =\n",
              "            await google.colab.kernel.invokeFunction('convertToInteractive',\n",
              "                                                     [key], {});\n",
              "          if (!dataTable) return;\n",
              "\n",
              "          const docLinkHtml = 'Like what you see? Visit the ' +\n",
              "            '<a target=\"_blank\" href=https://colab.research.google.com/notebooks/data_table.ipynb>data table notebook</a>'\n",
              "            + ' to learn more about interactive tables.';\n",
              "          element.innerHTML = '';\n",
              "          dataTable['output_type'] = 'display_data';\n",
              "          await google.colab.output.renderOutput(dataTable, element);\n",
              "          const docLink = document.createElement('div');\n",
              "          docLink.innerHTML = docLinkHtml;\n",
              "          element.appendChild(docLink);\n",
              "        }\n",
              "      </script>\n",
              "    </div>\n",
              "  </div>\n",
              "  "
            ]
          },
          "metadata": {},
          "execution_count": 7
        }
      ]
    },
    {
      "cell_type": "code",
      "source": [
        "corr = df.corr()\n",
        "\n",
        "plt.figure(figsize=(12, 8))\n",
        "\n",
        "sns.heatmap(corr, annot=True, linewidth=1)\n",
        "\n",
        "plt.title('Corrrelational Matrix', fontsize=20)\n",
        "plt.show()"
      ],
      "metadata": {
        "colab": {
          "base_uri": "https://localhost:8080/",
          "height": 504
        },
        "id": "3G6Tc4vv8LDl",
        "outputId": "a31e7f3a-54c3-474a-d231-b5c3d1429a31"
      },
      "execution_count": null,
      "outputs": [
        {
          "output_type": "display_data",
          "data": {
            "text/plain": [
              "<Figure size 864x576 with 2 Axes>"
            ],
            "image/png": "[encoded data removed]"
          },
          "metadata": {
            "needs_background": "light"
          }
        }
      ]
    },
    {
      "cell_type": "code",
      "source": [
        "plt.figure(figsize=(18, 10))\n",
        "\n",
        "colours = plt.cm.rainbow(np.linspace(0, 1, 40))\n",
        "sns.countplot(data=df, x='name', palette=colours)\n",
        "\n",
        "plt.title('Yeast Protein Classes', fontsize=20)\n",
        "plt.xlabel('Protein Name')\n",
        "plt.ylabel('Frequency')\n",
        "plt.show()"
      ],
      "metadata": {
        "id": "kV4DmxBVTHit",
        "colab": {
          "base_uri": "https://localhost:8080/",
          "height": 627
        },
        "outputId": "cd2edad0-d1e4-430c-974e-855ebc3c8863"
      },
      "execution_count": null,
      "outputs": [
        {
          "output_type": "display_data",
          "data": {
            "text/plain": [
              "<Figure size 1296x720 with 1 Axes>"
            ],
            "image/png": "[encoded data removed]"
          },
          "metadata": {
            "needs_background": "light"
          }
        }
      ]
    },
    {
      "cell_type": "code",
      "source": [
        "df_counts = df['name'].value_counts().to_frame()\n",
        "\n",
        "df_counts.T"
      ],
      "metadata": {
        "execution": {
          "iopub.status.busy": "2022-10-03T08:30:31.197183Z",
          "iopub.execute_input": "2022-10-03T08:30:31.198027Z",
          "iopub.status.idle": "2022-10-03T08:30:31.274383Z",
          "shell.execute_reply.started": "2022-10-03T08:30:31.197944Z",
          "shell.execute_reply": "2022-10-03T08:30:31.273079Z"
        },
        "trusted": true,
        "id": "8PesVO3DEoHZ",
        "colab": {
          "base_uri": "https://localhost:8080/",
          "height": 81
        },
        "outputId": "1ca31f3c-6e28-40b6-bb1b-08fbd0adee73"
      },
      "execution_count": null,
      "outputs": [
        {
          "output_type": "execute_result",
          "data": {
            "text/plain": [
              "      CYT  NUC  MIT  ME3  ME2  ME1  EXC  VAC  POX  ERL\n",
              "name  463  429  244  163   51   44   35   30   20    5"
            ],
            "text/html": [
              "\n",
              "  <div id=\"df-5ef304dc-7a5e-43d6-a966-374ee620fe74\">\n",
              "    <div class=\"colab-df-container\">\n",
              "      <div>\n",
              "<style scoped>\n",
              "    .dataframe tbody tr th:only-of-type {\n",
              "        vertical-align: middle;\n",
              "    }\n",
              "\n",
              "    .dataframe tbody tr th {\n",
              "        vertical-align: top;\n",
              "    }\n",
              "\n",
              "    .dataframe thead th {\n",
              "        text-align: right;\n",
              "    }\n",
              "</style>\n",
              "<table border=\"1\" class=\"dataframe\">\n",
              "  <thead>\n",
              "    <tr style=\"text-align: right;\">\n",
              "      <th></th>\n",
              "      <th>CYT</th>\n",
              "      <th>NUC</th>\n",
              "      <th>MIT</th>\n",
              "      <th>ME3</th>\n",
              "      <th>ME2</th>\n",
              "      <th>ME1</th>\n",
              "      <th>EXC</th>\n",
              "      <th>VAC</th>\n",
              "      <th>POX</th>\n",
              "      <th>ERL</th>\n",
              "    </tr>\n",
              "  </thead>\n",
              "  <tbody>\n",
              "    <tr>\n",
              "      <th>name</th>\n",
              "      <td>463</td>\n",
              "      <td>429</td>\n",
              "      <td>244</td>\n",
              "      <td>163</td>\n",
              "      <td>51</td>\n",
              "      <td>44</td>\n",
              "      <td>35</td>\n",
              "      <td>30</td>\n",
              "      <td>20</td>\n",
              "      <td>5</td>\n",
              "    </tr>\n",
              "  </tbody>\n",
              "</table>\n",
              "</div>\n",
              "      <button class=\"colab-df-convert\" onclick=\"convertToInteractive('df-5ef304dc-7a5e-43d6-a966-374ee620fe74')\"\n",
              "              title=\"Convert this dataframe to an interactive table.\"\n",
              "              style=\"display:none;\">\n",
              "        \n",
              "  <svg xmlns=\"http://www.w3.org/2000/svg\" height=\"24px\"viewBox=\"0 0 24 24\"\n",
              "       width=\"24px\">\n",
              "    <path d=\"M0 0h24v24H0V0z\" fill=\"none\"/>\n",
              "    <path d=\"M18.56 5.44l.94 2.06.94-2.06 2.06-.94-2.06-.94-.94-2.06-.94 2.06-2.06.94zm-11 1L8.5 8.5l.94-2.06 2.06-.94-2.06-.94L8.5 2.5l-.94 2.06-2.06.94zm10 10l.94 2.06.94-2.06 2.06-.94-2.06-.94-.94-2.06-.94 2.06-2.06.94z\"/><path d=\"M17.41 7.96l-1.37-1.37c-.4-.4-.92-.59-1.43-.59-.52 0-1.04.2-1.43.59L10.3 9.45l-7.72 7.72c-.78.78-.78 2.05 0 2.83L4 21.41c.39.39.9.59 1.41.59.51 0 1.02-.2 1.41-.59l7.78-7.78 2.81-2.81c.8-.78.8-2.07 0-2.86zM5.41 20L4 18.59l7.72-7.72 1.47 1.35L5.41 20z\"/>\n",
              "  </svg>\n",
              "      </button>\n",
              "      \n",
              "  <style>\n",
              "    .colab-df-container {\n",
              "      display:flex;\n",
              "      flex-wrap:wrap;\n",
              "      gap: 12px;\n",
              "    }\n",
              "\n",
              "    .colab-df-convert {\n",
              "      background-color: #E8F0FE;\n",
              "      border: none;\n",
              "      border-radius: 50%;\n",
              "      cursor: pointer;\n",
              "      display: none;\n",
              "      fill: #1967D2;\n",
              "      height: 32px;\n",
              "      padding: 0 0 0 0;\n",
              "      width: 32px;\n",
              "    }\n",
              "\n",
              "    .colab-df-convert:hover {\n",
              "      background-color: #E2EBFA;\n",
              "      box-shadow: 0px 1px 2px rgba(60, 64, 67, 0.3), 0px 1px 3px 1px rgba(60, 64, 67, 0.15);\n",
              "      fill: #174EA6;\n",
              "    }\n",
              "\n",
              "    [theme=dark] .colab-df-convert {\n",
              "      background-color: #3B4455;\n",
              "      fill: #D2E3FC;\n",
              "    }\n",
              "\n",
              "    [theme=dark] .colab-df-convert:hover {\n",
              "      background-color: #434B5C;\n",
              "      box-shadow: 0px 1px 3px 1px rgba(0, 0, 0, 0.15);\n",
              "      filter: drop-shadow(0px 1px 2px rgba(0, 0, 0, 0.3));\n",
              "      fill: #FFFFFF;\n",
              "    }\n",
              "  </style>\n",
              "\n",
              "      <script>\n",
              "        const buttonEl =\n",
              "          document.querySelector('#df-5ef304dc-7a5e-43d6-a966-374ee620fe74 button.colab-df-convert');\n",
              "        buttonEl.style.display =\n",
              "          google.colab.kernel.accessAllowed ? 'block' : 'none';\n",
              "\n",
              "        async function convertToInteractive(key) {\n",
              "          const element = document.querySelector('#df-5ef304dc-7a5e-43d6-a966-374ee620fe74');\n",
              "          const dataTable =\n",
              "            await google.colab.kernel.invokeFunction('convertToInteractive',\n",
              "                                                     [key], {});\n",
              "          if (!dataTable) return;\n",
              "\n",
              "          const docLinkHtml = 'Like what you see? Visit the ' +\n",
              "            '<a target=\"_blank\" href=https://colab.research.google.com/notebooks/data_table.ipynb>data table notebook</a>'\n",
              "            + ' to learn more about interactive tables.';\n",
              "          element.innerHTML = '';\n",
              "          dataTable['output_type'] = 'display_data';\n",
              "          await google.colab.output.renderOutput(dataTable, element);\n",
              "          const docLink = document.createElement('div');\n",
              "          docLink.innerHTML = docLinkHtml;\n",
              "          element.appendChild(docLink);\n",
              "        }\n",
              "      </script>\n",
              "    </div>\n",
              "  </div>\n",
              "  "
            ]
          },
          "metadata": {},
          "execution_count": 10
        }
      ]
    },
    {
      "cell_type": "code",
      "source": [
        "plt.figure(figsize=(10, 10))\n",
        "\n",
        "color = plt.cm.cool(np.linspace(0, 1,10))\n",
        "squarify.plot(sizes=df_counts.values, label=df_counts.index, pad=True, color=color)\n",
        "\n",
        "plt.title('Tree Map of Yeast Protein', fontsize=20)\n",
        "plt.axis('off')\n",
        "plt.show()"
      ],
      "metadata": {
        "execution": {
          "iopub.status.busy": "2022-10-03T08:30:31.564427Z",
          "iopub.execute_input": "2022-10-03T08:30:31.564853Z",
          "iopub.status.idle": "2022-10-03T08:30:31.740524Z",
          "shell.execute_reply.started": "2022-10-03T08:30:31.564816Z",
          "shell.execute_reply": "2022-10-03T08:30:31.739153Z"
        },
        "trusted": true,
        "id": "-hFkzKXZEoHa",
        "colab": {
          "base_uri": "https://localhost:8080/",
          "height": 596
        },
        "outputId": "0f5ecf66-00a6-4c2e-b1c8-6fc34695b11a"
      },
      "execution_count": null,
      "outputs": [
        {
          "output_type": "display_data",
          "data": {
            "text/plain": [
              "<Figure size 720x720 with 1 Axes>"
            ],
            "image/png": "[encoded data removed]"
          },
          "metadata": {
            "needs_background": "light"
          }
        }
      ]
    },
    {
      "cell_type": "markdown",
      "source": [
        "Shuffeled the data"
      ],
      "metadata": {
        "id": "xsCHQ5wfCl8e"
      }
    },
    {
      "cell_type": "code",
      "source": [
        "df.sample(frac=1).reset_index(drop=True)"
      ],
      "metadata": {
        "id": "aBCW6N2yfDN8",
        "colab": {
          "base_uri": "https://localhost:8080/",
          "height": 424
        },
        "outputId": "69860504-3dd9-45de-f0d3-78e7d973aae2"
      },
      "execution_count": null,
      "outputs": [
        {
          "output_type": "execute_result",
          "data": {
            "text/plain": [
              "       mcg   gvh   alm   mit  erl  pox   vac   nuc name\n",
              "0     0.54  0.57  0.52  0.19  0.5  0.0  0.59  0.67  NUC\n",
              "1     0.78  0.74  0.58  0.25  1.0  0.0  0.53  0.22  ERL\n",
              "2     0.37  0.48  0.50  0.26  0.5  0.0  0.52  0.39  NUC\n",
              "3     0.55  0.49  0.50  0.46  0.5  0.0  0.52  0.25  MIT\n",
              "4     0.46  0.38  0.51  0.20  0.5  0.0  0.51  0.22  CYT\n",
              "...    ...   ...   ...   ...  ...  ...   ...   ...  ...\n",
              "1479  0.45  0.46  0.55  0.43  0.5  0.0  0.55  0.38  NUC\n",
              "1480  0.38  0.61  0.61  0.12  0.5  0.0  0.53  0.47  CYT\n",
              "1481  0.29  0.40  0.41  0.48  0.5  0.0  0.53  0.30  NUC\n",
              "1482  0.46  0.43  0.38  0.33  0.5  0.0  0.48  0.28  MIT\n",
              "1483  0.30  0.45  0.55  0.19  0.5  0.0  0.53  0.40  CYT\n",
              "\n",
              "[1484 rows x 9 columns]"
            ],
            "text/html": [
              "\n",
              "  <div id=\"df-dc3ad343-1a22-400f-82e0-fb4ba444298c\">\n",
              "    <div class=\"colab-df-container\">\n",
              "      <div>\n",
              "<style scoped>\n",
              "    .dataframe tbody tr th:only-of-type {\n",
              "        vertical-align: middle;\n",
              "    }\n",
              "\n",
              "    .dataframe tbody tr th {\n",
              "        vertical-align: top;\n",
              "    }\n",
              "\n",
              "    .dataframe thead th {\n",
              "        text-align: right;\n",
              "    }\n",
              "</style>\n",
              "<table border=\"1\" class=\"dataframe\">\n",
              "  <thead>\n",
              "    <tr style=\"text-align: right;\">\n",
              "      <th></th>\n",
              "      <th>mcg</th>\n",
              "      <th>gvh</th>\n",
              "      <th>alm</th>\n",
              "      <th>mit</th>\n",
              "      <th>erl</th>\n",
              "      <th>pox</th>\n",
              "      <th>vac</th>\n",
              "      <th>nuc</th>\n",
              "      <th>name</th>\n",
              "    </tr>\n",
              "  </thead>\n",
              "  <tbody>\n",
              "    <tr>\n",
              "      <th>0</th>\n",
              "      <td>0.54</td>\n",
              "      <td>0.57</td>\n",
              "      <td>0.52</td>\n",
              "      <td>0.19</td>\n",
              "      <td>0.5</td>\n",
              "      <td>0.0</td>\n",
              "      <td>0.59</td>\n",
              "      <td>0.67</td>\n",
              "      <td>NUC</td>\n",
              "    </tr>\n",
              "    <tr>\n",
              "      <th>1</th>\n",
              "      <td>0.78</td>\n",
              "      <td>0.74</td>\n",
              "      <td>0.58</td>\n",
              "      <td>0.25</td>\n",
              "      <td>1.0</td>\n",
              "      <td>0.0</td>\n",
              "      <td>0.53</td>\n",
              "      <td>0.22</td>\n",
              "      <td>ERL</td>\n",
              "    </tr>\n",
              "    <tr>\n",
              "      <th>2</th>\n",
              "      <td>0.37</td>\n",
              "      <td>0.48</td>\n",
              "      <td>0.50</td>\n",
              "      <td>0.26</td>\n",
              "      <td>0.5</td>\n",
              "      <td>0.0</td>\n",
              "      <td>0.52</td>\n",
              "      <td>0.39</td>\n",
              "      <td>NUC</td>\n",
              "    </tr>\n",
              "    <tr>\n",
              "      <th>3</th>\n",
              "      <td>0.55</td>\n",
              "      <td>0.49</td>\n",
              "      <td>0.50</td>\n",
              "      <td>0.46</td>\n",
              "      <td>0.5</td>\n",
              "      <td>0.0</td>\n",
              "      <td>0.52</td>\n",
              "      <td>0.25</td>\n",
              "      <td>MIT</td>\n",
              "    </tr>\n",
              "    <tr>\n",
              "      <th>4</th>\n",
              "      <td>0.46</td>\n",
              "      <td>0.38</td>\n",
              "      <td>0.51</td>\n",
              "      <td>0.20</td>\n",
              "      <td>0.5</td>\n",
              "      <td>0.0</td>\n",
              "      <td>0.51</td>\n",
              "      <td>0.22</td>\n",
              "      <td>CYT</td>\n",
              "    </tr>\n",
              "    <tr>\n",
              "      <th>...</th>\n",
              "      <td>...</td>\n",
              "      <td>...</td>\n",
              "      <td>...</td>\n",
              "      <td>...</td>\n",
              "      <td>...</td>\n",
              "      <td>...</td>\n",
              "      <td>...</td>\n",
              "      <td>...</td>\n",
              "      <td>...</td>\n",
              "    </tr>\n",
              "    <tr>\n",
              "      <th>1479</th>\n",
              "      <td>0.45</td>\n",
              "      <td>0.46</td>\n",
              "      <td>0.55</td>\n",
              "      <td>0.43</td>\n",
              "      <td>0.5</td>\n",
              "      <td>0.0</td>\n",
              "      <td>0.55</td>\n",
              "      <td>0.38</td>\n",
              "      <td>NUC</td>\n",
              "    </tr>\n",
              "    <tr>\n",
              "      <th>1480</th>\n",
              "      <td>0.38</td>\n",
              "      <td>0.61</td>\n",
              "      <td>0.61</td>\n",
              "      <td>0.12</td>\n",
              "      <td>0.5</td>\n",
              "      <td>0.0</td>\n",
              "      <td>0.53</td>\n",
              "      <td>0.47</td>\n",
              "      <td>CYT</td>\n",
              "    </tr>\n",
              "    <tr>\n",
              "      <th>1481</th>\n",
              "      <td>0.29</td>\n",
              "      <td>0.40</td>\n",
              "      <td>0.41</td>\n",
              "      <td>0.48</td>\n",
              "      <td>0.5</td>\n",
              "      <td>0.0</td>\n",
              "      <td>0.53</td>\n",
              "      <td>0.30</td>\n",
              "      <td>NUC</td>\n",
              "    </tr>\n",
              "    <tr>\n",
              "      <th>1482</th>\n",
              "      <td>0.46</td>\n",
              "      <td>0.43</td>\n",
              "      <td>0.38</td>\n",
              "      <td>0.33</td>\n",
              "      <td>0.5</td>\n",
              "      <td>0.0</td>\n",
              "      <td>0.48</td>\n",
              "      <td>0.28</td>\n",
              "      <td>MIT</td>\n",
              "    </tr>\n",
              "    <tr>\n",
              "      <th>1483</th>\n",
              "      <td>0.30</td>\n",
              "      <td>0.45</td>\n",
              "      <td>0.55</td>\n",
              "      <td>0.19</td>\n",
              "      <td>0.5</td>\n",
              "      <td>0.0</td>\n",
              "      <td>0.53</td>\n",
              "      <td>0.40</td>\n",
              "      <td>CYT</td>\n",
              "    </tr>\n",
              "  </tbody>\n",
              "</table>\n",
              "<p>1484 rows × 9 columns</p>\n",
              "</div>\n",
              "      <button class=\"colab-df-convert\" onclick=\"convertToInteractive('df-dc3ad343-1a22-400f-82e0-fb4ba444298c')\"\n",
              "              title=\"Convert this dataframe to an interactive table.\"\n",
              "              style=\"display:none;\">\n",
              "        \n",
              "  <svg xmlns=\"http://www.w3.org/2000/svg\" height=\"24px\"viewBox=\"0 0 24 24\"\n",
              "       width=\"24px\">\n",
              "    <path d=\"M0 0h24v24H0V0z\" fill=\"none\"/>\n",
              "    <path d=\"M18.56 5.44l.94 2.06.94-2.06 2.06-.94-2.06-.94-.94-2.06-.94 2.06-2.06.94zm-11 1L8.5 8.5l.94-2.06 2.06-.94-2.06-.94L8.5 2.5l-.94 2.06-2.06.94zm10 10l.94 2.06.94-2.06 2.06-.94-2.06-.94-.94-2.06-.94 2.06-2.06.94z\"/><path d=\"M17.41 7.96l-1.37-1.37c-.4-.4-.92-.59-1.43-.59-.52 0-1.04.2-1.43.59L10.3 9.45l-7.72 7.72c-.78.78-.78 2.05 0 2.83L4 21.41c.39.39.9.59 1.41.59.51 0 1.02-.2 1.41-.59l7.78-7.78 2.81-2.81c.8-.78.8-2.07 0-2.86zM5.41 20L4 18.59l7.72-7.72 1.47 1.35L5.41 20z\"/>\n",
              "  </svg>\n",
              "      </button>\n",
              "      \n",
              "  <style>\n",
              "    .colab-df-container {\n",
              "      display:flex;\n",
              "      flex-wrap:wrap;\n",
              "      gap: 12px;\n",
              "    }\n",
              "\n",
              "    .colab-df-convert {\n",
              "      background-color: #E8F0FE;\n",
              "      border: none;\n",
              "      border-radius: 50%;\n",
              "      cursor: pointer;\n",
              "      display: none;\n",
              "      fill: #1967D2;\n",
              "      height: 32px;\n",
              "      padding: 0 0 0 0;\n",
              "      width: 32px;\n",
              "    }\n",
              "\n",
              "    .colab-df-convert:hover {\n",
              "      background-color: #E2EBFA;\n",
              "      box-shadow: 0px 1px 2px rgba(60, 64, 67, 0.3), 0px 1px 3px 1px rgba(60, 64, 67, 0.15);\n",
              "      fill: #174EA6;\n",
              "    }\n",
              "\n",
              "    [theme=dark] .colab-df-convert {\n",
              "      background-color: #3B4455;\n",
              "      fill: #D2E3FC;\n",
              "    }\n",
              "\n",
              "    [theme=dark] .colab-df-convert:hover {\n",
              "      background-color: #434B5C;\n",
              "      box-shadow: 0px 1px 3px 1px rgba(0, 0, 0, 0.15);\n",
              "      filter: drop-shadow(0px 1px 2px rgba(0, 0, 0, 0.3));\n",
              "      fill: #FFFFFF;\n",
              "    }\n",
              "  </style>\n",
              "\n",
              "      <script>\n",
              "        const buttonEl =\n",
              "          document.querySelector('#df-dc3ad343-1a22-400f-82e0-fb4ba444298c button.colab-df-convert');\n",
              "        buttonEl.style.display =\n",
              "          google.colab.kernel.accessAllowed ? 'block' : 'none';\n",
              "\n",
              "        async function convertToInteractive(key) {\n",
              "          const element = document.querySelector('#df-dc3ad343-1a22-400f-82e0-fb4ba444298c');\n",
              "          const dataTable =\n",
              "            await google.colab.kernel.invokeFunction('convertToInteractive',\n",
              "                                                     [key], {});\n",
              "          if (!dataTable) return;\n",
              "\n",
              "          const docLinkHtml = 'Like what you see? Visit the ' +\n",
              "            '<a target=\"_blank\" href=https://colab.research.google.com/notebooks/data_table.ipynb>data table notebook</a>'\n",
              "            + ' to learn more about interactive tables.';\n",
              "          element.innerHTML = '';\n",
              "          dataTable['output_type'] = 'display_data';\n",
              "          await google.colab.output.renderOutput(dataTable, element);\n",
              "          const docLink = document.createElement('div');\n",
              "          docLink.innerHTML = docLinkHtml;\n",
              "          element.appendChild(docLink);\n",
              "        }\n",
              "      </script>\n",
              "    </div>\n",
              "  </div>\n",
              "  "
            ]
          },
          "metadata": {},
          "execution_count": 12
        }
      ]
    },
    {
      "cell_type": "code",
      "source": [
        "x_num = ['mcg', 'gvh', 'alm', 'mit', 'vac', 'nuc']\n",
        "\n",
        "fig, ax = plt.subplots(3, 2, figsize=(20, 10))\n",
        "\n",
        "color = plt.cm.Paired(np.linspace(0, 1, 10))\n",
        "for i, col in enumerate(x_num):\n",
        "    sns.histplot(df[col], bins=20, kde=False, color=color[i] , ax=ax[i//2, i%2])\n",
        "\n",
        "fig.suptitle('Feature Distributions', fontsize=20)\n",
        "plt.show()"
      ],
      "metadata": {
        "colab": {
          "base_uri": "https://localhost:8080/",
          "height": 677
        },
        "id": "DkZmHjrdhl_A",
        "outputId": "9f5167c5-c7ae-476e-99b5-49832887fa80"
      },
      "execution_count": null,
      "outputs": [
        {
          "output_type": "display_data",
          "data": {
            "text/plain": [
              "<Figure size 1440x720 with 6 Axes>"
            ],
            "image/png": "[encoded data removed]"
          },
          "metadata": {
            "needs_background": "light"
          }
        }
      ]
    },
    {
      "cell_type": "code",
      "source": [
        "x_cat = ['erl', 'pox']\n",
        "\n",
        "fig, ax = plt.subplots(2, 1, figsize=(30, 10))\n",
        "\n",
        "for i, col in enumerate(x_cat):\n",
        "    sns.countplot(data=df, y=col, hue='name', ax=ax[i])"
      ],
      "metadata": {
        "colab": {
          "base_uri": "https://localhost:8080/",
          "height": 428
        },
        "id": "naIrjI688gqb",
        "outputId": "768d17ee-a13a-4639-daca-d544bbccb0a4"
      },
      "execution_count": null,
      "outputs": [
        {
          "output_type": "display_data",
          "data": {
            "text/plain": [
              "<Figure size 2160x720 with 2 Axes>"
            ],
            "image/png": "[encoded data removed]"
          },
          "metadata": {
            "needs_background": "light"
          }
        }
      ]
    },
    {
      "cell_type": "markdown",
      "source": [
        "* `erl` - has 2 catogories\n",
        "* `pox` - has 3 categories"
      ],
      "metadata": {
        "id": "vo703b4d8lOh"
      }
    },
    {
      "cell_type": "code",
      "source": [
        "OH_encoder = OneHotEncoder(sparse=False)\n",
        "\n",
        "OH_cols = pd.DataFrame(OH_encoder.fit_transform(df[x_cat]))\n",
        "\n",
        "OH_cols.index = df.index\n",
        "OH_cols.columns = [f'ohe{i}' for i in range(OH_cols.shape[1])]\n",
        "\n",
        "num_df = df.drop(x_cat, axis=1)\n",
        "\n",
        "df_full = pd.concat([num_df, OH_cols], axis=1)"
      ],
      "metadata": {
        "id": "xTo6-OZN8o5U"
      },
      "execution_count": null,
      "outputs": []
    },
    {
      "cell_type": "code",
      "source": [
        "df_full"
      ],
      "metadata": {
        "colab": {
          "base_uri": "https://localhost:8080/",
          "height": 424
        },
        "id": "X7gmudA08rGT",
        "outputId": "4ef84570-9b6a-4475-c411-3555cee16858"
      },
      "execution_count": null,
      "outputs": [
        {
          "output_type": "execute_result",
          "data": {
            "text/plain": [
              "       mcg   gvh   alm   mit   vac   nuc name  ohe0  ohe1  ohe2  ohe3  ohe4\n",
              "0     0.44  0.35  0.55  0.14  0.52  0.22  VAC   1.0   0.0   1.0   0.0   0.0\n",
              "1     0.57  0.59  0.50  0.58  0.53  0.22  MIT   1.0   0.0   1.0   0.0   0.0\n",
              "2     0.36  0.49  0.55  0.21  0.55  0.33  NUC   1.0   0.0   1.0   0.0   0.0\n",
              "3     0.39  0.28  0.46  0.12  0.41  0.22  NUC   1.0   0.0   1.0   0.0   0.0\n",
              "4     0.39  0.16  0.59  0.08  0.51  0.27  NUC   1.0   0.0   1.0   0.0   0.0\n",
              "...    ...   ...   ...   ...   ...   ...  ...   ...   ...   ...   ...   ...\n",
              "1479  0.78  0.73  0.27  0.28  0.56  0.22  ME1   1.0   0.0   1.0   0.0   0.0\n",
              "1480  0.60  0.37  0.52  0.15  0.55  0.26  VAC   1.0   0.0   1.0   0.0   0.0\n",
              "1481  0.71  0.50  0.50  0.18  0.46  0.22  CYT   1.0   0.0   1.0   0.0   0.0\n",
              "1482  0.49  0.37  0.59  0.17  0.51  0.22  NUC   1.0   0.0   1.0   0.0   0.0\n",
              "1483  0.46  0.47  0.62  0.30  0.38  0.22  CYT   1.0   0.0   1.0   0.0   0.0\n",
              "\n",
              "[1484 rows x 12 columns]"
            ],
            "text/html": [
              "\n",
              "  <div id=\"df-f6963908-2dcd-43f8-a720-71e18d06b7c3\">\n",
              "    <div class=\"colab-df-container\">\n",
              "      <div>\n",
              "<style scoped>\n",
              "    .dataframe tbody tr th:only-of-type {\n",
              "        vertical-align: middle;\n",
              "    }\n",
              "\n",
              "    .dataframe tbody tr th {\n",
              "        vertical-align: top;\n",
              "    }\n",
              "\n",
              "    .dataframe thead th {\n",
              "        text-align: right;\n",
              "    }\n",
              "</style>\n",
              "<table border=\"1\" class=\"dataframe\">\n",
              "  <thead>\n",
              "    <tr style=\"text-align: right;\">\n",
              "      <th></th>\n",
              "      <th>mcg</th>\n",
              "      <th>gvh</th>\n",
              "      <th>alm</th>\n",
              "      <th>mit</th>\n",
              "      <th>vac</th>\n",
              "      <th>nuc</th>\n",
              "      <th>name</th>\n",
              "      <th>ohe0</th>\n",
              "      <th>ohe1</th>\n",
              "      <th>ohe2</th>\n",
              "      <th>ohe3</th>\n",
              "      <th>ohe4</th>\n",
              "    </tr>\n",
              "  </thead>\n",
              "  <tbody>\n",
              "    <tr>\n",
              "      <th>0</th>\n",
              "      <td>0.44</td>\n",
              "      <td>0.35</td>\n",
              "      <td>0.55</td>\n",
              "      <td>0.14</td>\n",
              "      <td>0.52</td>\n",
              "      <td>0.22</td>\n",
              "      <td>VAC</td>\n",
              "      <td>1.0</td>\n",
              "      <td>0.0</td>\n",
              "      <td>1.0</td>\n",
              "      <td>0.0</td>\n",
              "      <td>0.0</td>\n",
              "    </tr>\n",
              "    <tr>\n",
              "      <th>1</th>\n",
              "      <td>0.57</td>\n",
              "      <td>0.59</td>\n",
              "      <td>0.50</td>\n",
              "      <td>0.58</td>\n",
              "      <td>0.53</td>\n",
              "      <td>0.22</td>\n",
              "      <td>MIT</td>\n",
              "      <td>1.0</td>\n",
              "      <td>0.0</td>\n",
              "      <td>1.0</td>\n",
              "      <td>0.0</td>\n",
              "      <td>0.0</td>\n",
              "    </tr>\n",
              "    <tr>\n",
              "      <th>2</th>\n",
              "      <td>0.36</td>\n",
              "      <td>0.49</td>\n",
              "      <td>0.55</td>\n",
              "      <td>0.21</td>\n",
              "      <td>0.55</td>\n",
              "      <td>0.33</td>\n",
              "      <td>NUC</td>\n",
              "      <td>1.0</td>\n",
              "      <td>0.0</td>\n",
              "      <td>1.0</td>\n",
              "      <td>0.0</td>\n",
              "      <td>0.0</td>\n",
              "    </tr>\n",
              "    <tr>\n",
              "      <th>3</th>\n",
              "      <td>0.39</td>\n",
              "      <td>0.28</td>\n",
              "      <td>0.46</td>\n",
              "      <td>0.12</td>\n",
              "      <td>0.41</td>\n",
              "      <td>0.22</td>\n",
              "      <td>NUC</td>\n",
              "      <td>1.0</td>\n",
              "      <td>0.0</td>\n",
              "      <td>1.0</td>\n",
              "      <td>0.0</td>\n",
              "      <td>0.0</td>\n",
              "    </tr>\n",
              "    <tr>\n",
              "      <th>4</th>\n",
              "      <td>0.39</td>\n",
              "      <td>0.16</td>\n",
              "      <td>0.59</td>\n",
              "      <td>0.08</td>\n",
              "      <td>0.51</td>\n",
              "      <td>0.27</td>\n",
              "      <td>NUC</td>\n",
              "      <td>1.0</td>\n",
              "      <td>0.0</td>\n",
              "      <td>1.0</td>\n",
              "      <td>0.0</td>\n",
              "      <td>0.0</td>\n",
              "    </tr>\n",
              "    <tr>\n",
              "      <th>...</th>\n",
              "      <td>...</td>\n",
              "      <td>...</td>\n",
              "      <td>...</td>\n",
              "      <td>...</td>\n",
              "      <td>...</td>\n",
              "      <td>...</td>\n",
              "      <td>...</td>\n",
              "      <td>...</td>\n",
              "      <td>...</td>\n",
              "      <td>...</td>\n",
              "      <td>...</td>\n",
              "      <td>...</td>\n",
              "    </tr>\n",
              "    <tr>\n",
              "      <th>1479</th>\n",
              "      <td>0.78</td>\n",
              "      <td>0.73</td>\n",
              "      <td>0.27</td>\n",
              "      <td>0.28</td>\n",
              "      <td>0.56</td>\n",
              "      <td>0.22</td>\n",
              "      <td>ME1</td>\n",
              "      <td>1.0</td>\n",
              "      <td>0.0</td>\n",
              "      <td>1.0</td>\n",
              "      <td>0.0</td>\n",
              "      <td>0.0</td>\n",
              "    </tr>\n",
              "    <tr>\n",
              "      <th>1480</th>\n",
              "      <td>0.60</td>\n",
              "      <td>0.37</td>\n",
              "      <td>0.52</td>\n",
              "      <td>0.15</td>\n",
              "      <td>0.55</td>\n",
              "      <td>0.26</td>\n",
              "      <td>VAC</td>\n",
              "      <td>1.0</td>\n",
              "      <td>0.0</td>\n",
              "      <td>1.0</td>\n",
              "      <td>0.0</td>\n",
              "      <td>0.0</td>\n",
              "    </tr>\n",
              "    <tr>\n",
              "      <th>1481</th>\n",
              "      <td>0.71</td>\n",
              "      <td>0.50</td>\n",
              "      <td>0.50</td>\n",
              "      <td>0.18</td>\n",
              "      <td>0.46</td>\n",
              "      <td>0.22</td>\n",
              "      <td>CYT</td>\n",
              "      <td>1.0</td>\n",
              "      <td>0.0</td>\n",
              "      <td>1.0</td>\n",
              "      <td>0.0</td>\n",
              "      <td>0.0</td>\n",
              "    </tr>\n",
              "    <tr>\n",
              "      <th>1482</th>\n",
              "      <td>0.49</td>\n",
              "      <td>0.37</td>\n",
              "      <td>0.59</td>\n",
              "      <td>0.17</td>\n",
              "      <td>0.51</td>\n",
              "      <td>0.22</td>\n",
              "      <td>NUC</td>\n",
              "      <td>1.0</td>\n",
              "      <td>0.0</td>\n",
              "      <td>1.0</td>\n",
              "      <td>0.0</td>\n",
              "      <td>0.0</td>\n",
              "    </tr>\n",
              "    <tr>\n",
              "      <th>1483</th>\n",
              "      <td>0.46</td>\n",
              "      <td>0.47</td>\n",
              "      <td>0.62</td>\n",
              "      <td>0.30</td>\n",
              "      <td>0.38</td>\n",
              "      <td>0.22</td>\n",
              "      <td>CYT</td>\n",
              "      <td>1.0</td>\n",
              "      <td>0.0</td>\n",
              "      <td>1.0</td>\n",
              "      <td>0.0</td>\n",
              "      <td>0.0</td>\n",
              "    </tr>\n",
              "  </tbody>\n",
              "</table>\n",
              "<p>1484 rows × 12 columns</p>\n",
              "</div>\n",
              "      <button class=\"colab-df-convert\" onclick=\"convertToInteractive('df-f6963908-2dcd-43f8-a720-71e18d06b7c3')\"\n",
              "              title=\"Convert this dataframe to an interactive table.\"\n",
              "              style=\"display:none;\">\n",
              "        \n",
              "  <svg xmlns=\"http://www.w3.org/2000/svg\" height=\"24px\"viewBox=\"0 0 24 24\"\n",
              "       width=\"24px\">\n",
              "    <path d=\"M0 0h24v24H0V0z\" fill=\"none\"/>\n",
              "    <path d=\"M18.56 5.44l.94 2.06.94-2.06 2.06-.94-2.06-.94-.94-2.06-.94 2.06-2.06.94zm-11 1L8.5 8.5l.94-2.06 2.06-.94-2.06-.94L8.5 2.5l-.94 2.06-2.06.94zm10 10l.94 2.06.94-2.06 2.06-.94-2.06-.94-.94-2.06-.94 2.06-2.06.94z\"/><path d=\"M17.41 7.96l-1.37-1.37c-.4-.4-.92-.59-1.43-.59-.52 0-1.04.2-1.43.59L10.3 9.45l-7.72 7.72c-.78.78-.78 2.05 0 2.83L4 21.41c.39.39.9.59 1.41.59.51 0 1.02-.2 1.41-.59l7.78-7.78 2.81-2.81c.8-.78.8-2.07 0-2.86zM5.41 20L4 18.59l7.72-7.72 1.47 1.35L5.41 20z\"/>\n",
              "  </svg>\n",
              "      </button>\n",
              "      \n",
              "  <style>\n",
              "    .colab-df-container {\n",
              "      display:flex;\n",
              "      flex-wrap:wrap;\n",
              "      gap: 12px;\n",
              "    }\n",
              "\n",
              "    .colab-df-convert {\n",
              "      background-color: #E8F0FE;\n",
              "      border: none;\n",
              "      border-radius: 50%;\n",
              "      cursor: pointer;\n",
              "      display: none;\n",
              "      fill: #1967D2;\n",
              "      height: 32px;\n",
              "      padding: 0 0 0 0;\n",
              "      width: 32px;\n",
              "    }\n",
              "\n",
              "    .colab-df-convert:hover {\n",
              "      background-color: #E2EBFA;\n",
              "      box-shadow: 0px 1px 2px rgba(60, 64, 67, 0.3), 0px 1px 3px 1px rgba(60, 64, 67, 0.15);\n",
              "      fill: #174EA6;\n",
              "    }\n",
              "\n",
              "    [theme=dark] .colab-df-convert {\n",
              "      background-color: #3B4455;\n",
              "      fill: #D2E3FC;\n",
              "    }\n",
              "\n",
              "    [theme=dark] .colab-df-convert:hover {\n",
              "      background-color: #434B5C;\n",
              "      box-shadow: 0px 1px 3px 1px rgba(0, 0, 0, 0.15);\n",
              "      filter: drop-shadow(0px 1px 2px rgba(0, 0, 0, 0.3));\n",
              "      fill: #FFFFFF;\n",
              "    }\n",
              "  </style>\n",
              "\n",
              "      <script>\n",
              "        const buttonEl =\n",
              "          document.querySelector('#df-f6963908-2dcd-43f8-a720-71e18d06b7c3 button.colab-df-convert');\n",
              "        buttonEl.style.display =\n",
              "          google.colab.kernel.accessAllowed ? 'block' : 'none';\n",
              "\n",
              "        async function convertToInteractive(key) {\n",
              "          const element = document.querySelector('#df-f6963908-2dcd-43f8-a720-71e18d06b7c3');\n",
              "          const dataTable =\n",
              "            await google.colab.kernel.invokeFunction('convertToInteractive',\n",
              "                                                     [key], {});\n",
              "          if (!dataTable) return;\n",
              "\n",
              "          const docLinkHtml = 'Like what you see? Visit the ' +\n",
              "            '<a target=\"_blank\" href=https://colab.research.google.com/notebooks/data_table.ipynb>data table notebook</a>'\n",
              "            + ' to learn more about interactive tables.';\n",
              "          element.innerHTML = '';\n",
              "          dataTable['output_type'] = 'display_data';\n",
              "          await google.colab.output.renderOutput(dataTable, element);\n",
              "          const docLink = document.createElement('div');\n",
              "          docLink.innerHTML = docLinkHtml;\n",
              "          element.appendChild(docLink);\n",
              "        }\n",
              "      </script>\n",
              "    </div>\n",
              "  </div>\n",
              "  "
            ]
          },
          "metadata": {},
          "execution_count": 17
        }
      ]
    },
    {
      "cell_type": "code",
      "source": [
        "encoder = LabelEncoder()\n",
        "\n",
        "df_full['name'] = encoder.fit_transform(df_full['name'].values)"
      ],
      "metadata": {
        "id": "uTeLxEwq82D6"
      },
      "execution_count": null,
      "outputs": []
    },
    {
      "cell_type": "markdown",
      "source": [
        "## Logistic Resgression :\n",
        "### CASE - I"
      ],
      "metadata": {
        "id": "ZXDq_mOXEoHf"
      }
    },
    {
      "cell_type": "code",
      "source": [
        "np.random.seed(42)\n",
        "\n",
        "X = df_full.copy().drop('name', axis=1)\n",
        "y = df_full['name'].values\n",
        "\n",
        "Xtrain, Xtest, ytrain, ytest = train_test_split(X, y, test_size=0.2)"
      ],
      "metadata": {
        "execution": {
          "iopub.status.busy": "2022-10-03T08:30:32.227146Z",
          "iopub.execute_input": "2022-10-03T08:30:32.227780Z",
          "iopub.status.idle": "2022-10-03T08:30:32.241411Z",
          "shell.execute_reply.started": "2022-10-03T08:30:32.227726Z",
          "shell.execute_reply": "2022-10-03T08:30:32.240079Z"
        },
        "trusted": true,
        "id": "vTnNyFQ9EoHf"
      },
      "execution_count": null,
      "outputs": []
    },
    {
      "cell_type": "code",
      "source": [
        "Xtrain_full, ytrain_full = Xtrain.copy(), pd.DataFrame(ytrain.copy())\n",
        "\n",
        "kfold = KFold(n_splits=5, shuffle=True)\n",
        "\n",
        "scores = []\n",
        "\n",
        "for train_idx, valid_idx in kfold.split(Xtrain_full):\n",
        "    Xtrain = Xtrain_full.iloc[train_idx]\n",
        "    Xvalid = Xtrain_full.iloc[valid_idx]\n",
        "\n",
        "    ytrain = ytrain_full.iloc[train_idx]\n",
        "    yvalid = ytrain_full.iloc[valid_idx]\n",
        "\n",
        "    model = LogisticRegression(max_iter=1000)\n",
        "    model.fit(Xtrain, ytrain.values.ravel())\n",
        "\n",
        "    auc_score = model.score(Xvalid, yvalid)\n",
        "    scores.append(auc_score)\n",
        "\n",
        "np.array(scores)"
      ],
      "metadata": {
        "execution": {
          "iopub.status.busy": "2022-10-03T08:30:32.244499Z",
          "iopub.execute_input": "2022-10-03T08:30:32.245047Z",
          "iopub.status.idle": "2022-10-03T08:30:32.789475Z",
          "shell.execute_reply.started": "2022-10-03T08:30:32.244997Z",
          "shell.execute_reply": "2022-10-03T08:30:32.788150Z"
        },
        "trusted": true,
        "id": "lgG5Izt_EoHf",
        "colab": {
          "base_uri": "https://localhost:8080/"
        },
        "outputId": "20ffb579-86b6-45fc-cbdd-45327d8bbe20"
      },
      "execution_count": null,
      "outputs": [
        {
          "output_type": "execute_result",
          "data": {
            "text/plain": [
              "array([0.52941176, 0.58403361, 0.49367089, 0.54008439, 0.58649789])"
            ]
          },
          "metadata": {},
          "execution_count": 22
        }
      ]
    },
    {
      "cell_type": "code",
      "source": [
        "np.mean(scores)"
      ],
      "metadata": {
        "execution": {
          "iopub.status.busy": "2022-10-03T08:30:32.791174Z",
          "iopub.execute_input": "2022-10-03T08:30:32.791948Z",
          "iopub.status.idle": "2022-10-03T08:30:32.799954Z",
          "shell.execute_reply.started": "2022-10-03T08:30:32.791901Z",
          "shell.execute_reply": "2022-10-03T08:30:32.798666Z"
        },
        "trusted": true,
        "id": "btodxxN3EoHg",
        "colab": {
          "base_uri": "https://localhost:8080/"
        },
        "outputId": "afa5a2c3-372c-4713-ef82-ff9b0d2dffa3"
      },
      "execution_count": null,
      "outputs": [
        {
          "output_type": "execute_result",
          "data": {
            "text/plain": [
              "0.5467397085416446"
            ]
          },
          "metadata": {},
          "execution_count": 23
        }
      ]
    },
    {
      "cell_type": "markdown",
      "source": [
        "### CASE - II"
      ],
      "metadata": {
        "id": "j9draC42EoHg"
      }
    },
    {
      "cell_type": "markdown",
      "source": [
        "1:9 is the split for testing and training data\n",
        "\n",
        "* Variance of this model is high\n",
        "* Underfit is due to the training model"
      ],
      "metadata": {
        "id": "M3-M8io2EoHg"
      }
    },
    {
      "cell_type": "code",
      "source": [
        "np.random.seed(42)\n",
        "\n",
        "X = df_full.copy().drop('name', axis=1)\n",
        "y = df_full['name'].values\n",
        "\n",
        "Xtrain, Xtest, ytrain, ytest = train_test_split(X, y, test_size=0.9)"
      ],
      "metadata": {
        "execution": {
          "iopub.status.busy": "2022-10-03T08:30:32.804276Z",
          "iopub.execute_input": "2022-10-03T08:30:32.805370Z",
          "iopub.status.idle": "2022-10-03T08:30:32.817575Z",
          "shell.execute_reply.started": "2022-10-03T08:30:32.805328Z",
          "shell.execute_reply": "2022-10-03T08:30:32.816042Z"
        },
        "trusted": true,
        "id": "T6Ll1sVmEoHh"
      },
      "execution_count": null,
      "outputs": []
    },
    {
      "cell_type": "code",
      "source": [
        "Xtrain_full, ytrain_full = Xtrain.copy(), pd.DataFrame(ytrain.copy())\n",
        "\n",
        "kfold = KFold(n_splits=5, shuffle=True)\n",
        "\n",
        "scores = []\n",
        "\n",
        "for train_idx, valid_idx in kfold.split(Xtrain_full):\n",
        "    Xtrain = Xtrain_full.iloc[train_idx]\n",
        "    Xvalid = Xtrain_full.iloc[valid_idx]\n",
        "\n",
        "    ytrain = ytrain_full.iloc[train_idx]\n",
        "    yvalid = ytrain_full.iloc[valid_idx]\n",
        "\n",
        "    model = LogisticRegression(max_iter=1000)\n",
        "    model.fit(Xtrain, ytrain.values.ravel())\n",
        "\n",
        "    auc_score = model.score(Xvalid, yvalid)\n",
        "    scores.append(auc_score)\n",
        "\n",
        "np.array(scores)"
      ],
      "metadata": {
        "execution": {
          "iopub.status.busy": "2022-10-03T08:30:32.819492Z",
          "iopub.execute_input": "2022-10-03T08:30:32.819897Z",
          "iopub.status.idle": "2022-10-03T08:30:32.938626Z",
          "shell.execute_reply.started": "2022-10-03T08:30:32.819860Z",
          "shell.execute_reply": "2022-10-03T08:30:32.937502Z"
        },
        "trusted": true,
        "id": "PVCltr_DEoHh",
        "colab": {
          "base_uri": "https://localhost:8080/"
        },
        "outputId": "263a2efe-8753-4249-d0a0-7a91a693898e"
      },
      "execution_count": null,
      "outputs": [
        {
          "output_type": "execute_result",
          "data": {
            "text/plain": [
              "array([0.5       , 0.3       , 0.53333333, 0.48275862, 0.44827586])"
            ]
          },
          "metadata": {},
          "execution_count": 25
        }
      ]
    },
    {
      "cell_type": "code",
      "source": [
        "np.mean(scores)"
      ],
      "metadata": {
        "colab": {
          "base_uri": "https://localhost:8080/"
        },
        "id": "WNqa4AElDxJm",
        "outputId": "ac58adca-675e-4ff3-ae63-9752115f2932"
      },
      "execution_count": null,
      "outputs": [
        {
          "output_type": "execute_result",
          "data": {
            "text/plain": [
              "0.4528735632183908"
            ]
          },
          "metadata": {},
          "execution_count": 45
        }
      ]
    },
    {
      "cell_type": "markdown",
      "source": [
        "**Accuracy Scores on:**\n",
        "\n",
        "* `LogisticRegression Case-1` - 0.5425415735914619\n",
        "* `LogisticRegression Case-2` - 0.4528735632183908\n",
        "**Model Analysis :**\n",
        "\n",
        "* The accuracy score on kfold cross validation is low which result in the underfit model\n",
        "\n"
      ],
      "metadata": {
        "id": "T_BIiXe4EoHi"
      }
    },
    {
      "cell_type": "code",
      "source": [
        "X_train, X_test, y_train, y_test = train_test_split(X, y, test_size = 0.2)\n",
        "\n",
        "# TODO : Use Optuna\n",
        "model = LogisticRegression(max_iter=1000)\n",
        "model.fit(X_train, y_train)\n",
        "\n",
        "y_train_pred = model.predict(X_train)\n",
        "y_test_pred = model.predict(X_test)\n",
        "y_test_prob_pred = model.predict_proba(X_test)\n",
        "\n",
        "acc_train = accuracy_score(y_train, y_train_pred)\n",
        "acc_test = accuracy_score(y_test, y_test_pred)"
      ],
      "metadata": {
        "id": "SbPqjL829lw4"
      },
      "execution_count": null,
      "outputs": []
    },
    {
      "cell_type": "code",
      "source": [
        "print(f'Training Accuracy : {acc_train}')\n",
        "print(f'Testing Accuracy : {acc_test}')"
      ],
      "metadata": {
        "colab": {
          "base_uri": "https://localhost:8080/"
        },
        "id": "TCl2rTFo9qCo",
        "outputId": "29500f51-dac0-4dc2-ebe3-7b61a83a74a3"
      },
      "execution_count": null,
      "outputs": [
        {
          "output_type": "stream",
          "name": "stdout",
          "text": [
            "Training Accuracy : 0.5669755686604886\n",
            "Testing Accuracy : 0.5353535353535354\n"
          ]
        }
      ]
    },
    {
      "cell_type": "code",
      "source": [
        "cm = confusion_matrix(y_test, y_test_pred)\n",
        "\n",
        "plt.figure(figsize=(12, 8))\n",
        "\n",
        "sns.heatmap(cm, annot=True, linewidth=1)\n",
        "\n",
        "plt.title(\"Confusion Matrix\")\n",
        "plt.ylabel('True label')\n",
        "plt.xlabel('Predicted label')\n",
        "plt.show()"
      ],
      "metadata": {
        "colab": {
          "base_uri": "https://localhost:8080/",
          "height": 513
        },
        "id": "g3Fc06AO9qAE",
        "outputId": "073b2f80-379e-444a-dbe9-c29a26712c15"
      },
      "execution_count": null,
      "outputs": [
        {
          "output_type": "display_data",
          "data": {
            "text/plain": [
              "<Figure size 864x576 with 2 Axes>"
            ],
            "image/png": "[encoded data removed]"
          },
          "metadata": {
            "needs_background": "light"
          }
        }
      ]
    },
    {
      "cell_type": "markdown",
      "source": [
        "## Random Forests :"
      ],
      "metadata": {
        "id": "Shr8Zxyj9v8k"
      }
    },
    {
      "cell_type": "code",
      "source": [
        "model = RandomForestClassifier(\n",
        "    n_estimators=50, max_depth=6, criterion='entropy',\n",
        "    min_samples_leaf=1, min_samples_split=2\n",
        ")\n",
        "\n",
        "model.fit(X_train, y_train)\n",
        "\n",
        "y_train_pred = model.predict(X_train)\n",
        "y_test_pred = model.predict(X_test)\n",
        "\n",
        "acc_train = accuracy_score(y_train, y_train_pred)\n",
        "acc_test = accuracy_score(y_test, y_test_pred)"
      ],
      "metadata": {
        "id": "KMGynV3e9p6m"
      },
      "execution_count": null,
      "outputs": []
    },
    {
      "cell_type": "code",
      "source": [
        "print(f'Training Accuracy : {acc_train}')\n",
        "print(f'Testing Accuracy : {acc_test}')"
      ],
      "metadata": {
        "colab": {
          "base_uri": "https://localhost:8080/"
        },
        "id": "rrpYX3gK9p3x",
        "outputId": "a0c18a76-fee8-45fb-e630-f0c65af5b678"
      },
      "execution_count": null,
      "outputs": [
        {
          "output_type": "stream",
          "name": "stdout",
          "text": [
            "Training Accuracy : 0.7042965459140691\n",
            "Testing Accuracy : 0.5723905723905723\n"
          ]
        }
      ]
    },
    {
      "cell_type": "code",
      "source": [
        "cm = confusion_matrix(y_test, y_test_pred)\n",
        "\n",
        "plt.figure(figsize=(12, 8))\n",
        "\n",
        "sns.heatmap(cm, annot=True, linewidth=1)\n",
        "\n",
        "plt.title(\"Confusion Matrix\")\n",
        "plt.ylabel('True label')\n",
        "plt.xlabel('Predicted label')\n",
        "plt.show()"
      ],
      "metadata": {
        "colab": {
          "base_uri": "https://localhost:8080/",
          "height": 513
        },
        "id": "GbWU9ZDe9p1G",
        "outputId": "d44c937e-4dbd-4042-9313-bd13586fa474"
      },
      "execution_count": null,
      "outputs": [
        {
          "output_type": "display_data",
          "data": {
            "text/plain": [
              "<Figure size 864x576 with 2 Axes>"
            ],
            "image/png": "[encoded data removed]"
          },
          "metadata": {
            "needs_background": "light"
          }
        }
      ]
    },
    {
      "cell_type": "markdown",
      "source": [
        "## MLE :"
      ],
      "metadata": {
        "id": "0Ea35XIS93zA"
      }
    },
    {
      "cell_type": "code",
      "source": [
        "def var_type(col):\n",
        "    if len(df_full[col].unique()) < len(df_full[col]):\n",
        "        return 'discrete'\n",
        "    else:\n",
        "        return 'continous'\n",
        "\n",
        "\n",
        "def cal_L_max_norm(col):\n",
        "    mu, sigma = df_full[col].mean(), df_full[col].std()\n",
        "    L_max = np.sum(np.log(stats.norm.pdf(df_full[col], loc=mu, scale=sigma)))\n",
        "    return L_max\n",
        "\n",
        "\n",
        "def cal_L_max_rayleigh(col):\n",
        "    tf = np.array(df_full[col])\n",
        "    sigma = np.sqrt(np.mean(tf ** 2) / 2)\n",
        "    L_max = np.sum(np.log((tf / sigma ** 2)) * (math.e ** -(tf ** 2 / (2 * sigma ** 2))))\n",
        "    return L_max\n",
        "\n",
        "def distribution_type(col):\n",
        "    col_type = var_type(col)\n",
        "\n",
        "    if col_type == 'discrete':\n",
        "        if len(df_full[col].unique() == 2):\n",
        "            print(f'{col} : binomial distribution')\n",
        "        else:\n",
        "            print(f'{col} : multinomial distribution')\n",
        "    else:\n",
        "        x, y = cal_L_max_norm(col), cal_L_max_rayleigh(col)\n",
        "\n",
        "        if x > y:\n",
        "            print(f'{col} : normal distribution')\n",
        "            print(f'{col} : rayleigh distribution')"
      ],
      "metadata": {
        "id": "hJBBwvyC9pvX"
      },
      "execution_count": null,
      "outputs": []
    },
    {
      "cell_type": "code",
      "source": [
        "for col in X.columns:\n",
        "    distribution_type(col)"
      ],
      "metadata": {
        "colab": {
          "base_uri": "https://localhost:8080/"
        },
        "id": "EtaXrt5N9pmG",
        "outputId": "8ab0b6ac-dc99-45a6-dd31-305f852c230a"
      },
      "execution_count": null,
      "outputs": [
        {
          "output_type": "stream",
          "name": "stdout",
          "text": [
            "mcg : binomial distribution\n",
            "gvh : binomial distribution\n",
            "alm : binomial distribution\n",
            "mit : binomial distribution\n",
            "vac : binomial distribution\n",
            "nuc : binomial distribution\n",
            "ohe0 : binomial distribution\n",
            "ohe1 : binomial distribution\n",
            "ohe2 : binomial distribution\n",
            "ohe3 : binomial distribution\n",
            "ohe4 : binomial distribution\n"
          ]
        }
      ]
    },
    {
      "cell_type": "code",
      "source": [
        "class MLClassifier:\n",
        "    def fit(self, x: np.ndarray, y: np.ndarray) -> None:\n",
        "        '''\n",
        "        x - numpy array of shape (n, d); n = #observations; d = #variables\n",
        "        y - numpy array of shape (n,)\n",
        "        '''\n",
        "        # no. of variables / dimension\n",
        "        self.d = x.shape[1]\n",
        "\n",
        "        # no. of classes; assumes labels to be integers from 0 to nclasses-1\n",
        "        self.nclasses = len(set(y))\n",
        "\n",
        "        # list of means; mu_list[i] is mean vector for label i\n",
        "        self.mu_list = []\n",
        "\n",
        "        # list of inverse covariance matrices;\n",
        "        # sigma_list[i] is inverse covariance matrix for label i\n",
        "        # for efficiency reasons we store only the inverses\n",
        "        self.sigma_inv_list = []\n",
        "\n",
        "        # list of scalars in front of e^...\n",
        "        self.scalars = []\n",
        "\n",
        "        n = x.shape[0]\n",
        "        for i in range(self.nclasses):\n",
        "\n",
        "            # subset of obesrvations for label i\n",
        "            cls_x = np.array([x[j] for j in range(n) if y[j] == i])\n",
        "\n",
        "            mu = np.mean(cls_x, axis=0)\n",
        "\n",
        "            noise = 1e-4 * np.random.rand(1 + self.nclasses, 1 + self.nclasses)\n",
        "            # rowvar = False, this is to use columns as variables instead of rows\n",
        "            sigma = np.cov(cls_x, rowvar=False)\n",
        "            if np.sum(np.linalg.eigvals(sigma) <= 0) != 0:\n",
        "                # if at least one eigenvalue is <= 0 show warning\n",
        "                print(f'Warning! Covariance matrix for label cls is not positive definite!\\n')\n",
        "\n",
        "            sigma_inv = np.linalg.inv(sigma + noise)\n",
        "\n",
        "            scalar = 1/np.sqrt(1 + ((2*np.pi)**self.d)*np.linalg.det(sigma))\n",
        "\n",
        "            self.mu_list.append(mu)\n",
        "            self.sigma_inv_list.append(sigma_inv)\n",
        "            self.scalars.append(scalar)\n",
        "\n",
        "    def _class_likelihood(self, x: np.ndarray, cls: int) -> float:\n",
        "        '''\n",
        "        x - numpy array of shape (d,)\n",
        "        cls - class label\n",
        "\n",
        "        Returns: likelihood of x under the assumption that class label is cls\n",
        "        '''\n",
        "        mu = self.mu_list[cls]\n",
        "        sigma_inv = self.sigma_inv_list[cls]\n",
        "        scalar = self.scalars[cls]\n",
        "        d = self.d\n",
        "\n",
        "        exp = (-1/2)*np.dot(np.matmul(x-mu, sigma_inv), x-mu)\n",
        "\n",
        "        return scalar * (np.e**exp)\n",
        "\n",
        "    def predict(self, x: np.ndarray) -> int:\n",
        "        '''\n",
        "        x - numpy array of shape (d,)\n",
        "        Returns: predicted label\n",
        "        '''\n",
        "        likelihoods = [self._class_likelihood(x, i) for i in range(self.nclasses)]\n",
        "        return np.argmax(likelihoods)\n",
        "\n",
        "    def score(self, x: np.ndarray, y: np.ndarray) -> float:\n",
        "        '''\n",
        "        x - numpy array of shape (n, d); n = #observations; d = #variables\n",
        "        y - numpy array of shape (n,)\n",
        "        Returns: accuracy of predictions\n",
        "        '''\n",
        "        n = x.shape[0]\n",
        "        predicted_y = np.array([self.predict(x[i]) for i in range(n)])\n",
        "        n_correct = np.sum(predicted_y == y)\n",
        "        return n_correct/n"
      ],
      "metadata": {
        "id": "CjF3O6zd98cR"
      },
      "execution_count": null,
      "outputs": []
    },
    {
      "cell_type": "code",
      "source": [
        "X_train.to_numpy().shape"
      ],
      "metadata": {
        "colab": {
          "base_uri": "https://localhost:8080/"
        },
        "id": "ozT8a3SK98XY",
        "outputId": "ddd17e8f-138a-4f1c-bb21-43d7e2665e44"
      },
      "execution_count": null,
      "outputs": [
        {
          "output_type": "execute_result",
          "data": {
            "text/plain": [
              "(1187, 11)"
            ]
          },
          "metadata": {},
          "execution_count": 43
        }
      ]
    },
    {
      "cell_type": "code",
      "source": [
        "model = MLClassifier()\n",
        "model.fit(X_train.to_numpy(), y_train)"
      ],
      "metadata": {
        "colab": {
          "base_uri": "https://localhost:8080/"
        },
        "id": "jvqqNvZi98UE",
        "outputId": "cf4f3123-85bb-422b-fede-019054651b40"
      },
      "execution_count": null,
      "outputs": [
        {
          "output_type": "stream",
          "name": "stdout",
          "text": [
            "Warning! Covariance matrix for label cls is not positive definite!\n",
            "\n",
            "Warning! Covariance matrix for label cls is not positive definite!\n",
            "\n",
            "Warning! Covariance matrix for label cls is not positive definite!\n",
            "\n",
            "Warning! Covariance matrix for label cls is not positive definite!\n",
            "\n",
            "Warning! Covariance matrix for label cls is not positive definite!\n",
            "\n",
            "Warning! Covariance matrix for label cls is not positive definite!\n",
            "\n",
            "Warning! Covariance matrix for label cls is not positive definite!\n",
            "\n",
            "Warning! Covariance matrix for label cls is not positive definite!\n",
            "\n",
            "Warning! Covariance matrix for label cls is not positive definite!\n",
            "\n",
            "Warning! Covariance matrix for label cls is not positive definite!\n",
            "\n"
          ]
        }
      ]
    }
  ]
}